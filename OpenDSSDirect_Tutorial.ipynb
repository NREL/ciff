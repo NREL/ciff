{
 "cells": [
  {
   "cell_type": "markdown",
   "metadata": {},
   "source": [
    "<img src=\"images/python-logo.png\" width=400> <img src=\"images/DSS_logo.png\" width=150> "
   ]
  },
  {
   "cell_type": "markdown",
   "metadata": {},
   "source": [
    "# <font color=Orange> OpenDSSDirect</font>: Feeder Analysis and Solar Integration\n",
    "OpenDSSDirect provides a python interface for building, running, and analyzing circuits in OpenDSS. It is a means fo \"driving\" OpenDSS from outside of the command line interface that we have already learned. It allows the user to develop their own functionalities that may not be included in the standard OpenDSS program and tailor analysis to their research needs. <br>\n",
    "<br>\n",
    "Full OpenDSSDirect documentation can be found here --> https://dss-extensions.org/OpenDSSDirect.py/index.html#"
   ]
  },
  {
   "cell_type": "markdown",
   "metadata": {},
   "source": [
    "## Installation\n",
    "- First we need to install OpenDSSDirect.py in our current python environment. <br>\n",
    "- Activate the desired environment and run the following command in a terminal: <font color='orange'> pip install OpenDSSDirect.py[extras] </font> <br>\n",
    "\n",
    "- Create an instance of OpenDSS in Python and interface to the command line interface in OpenDSS.<br>\n",
    " - We can create a shorthand for the <font color='orange'> dss.utils.run_command </font> as <font color='orange'> cmd </font>. This will be our interface for all commands we wish to run in OpenDSS."
   ]
  },
  {
   "cell_type": "code",
   "execution_count": null,
   "metadata": {},
   "outputs": [],
   "source": [
    "import opendssdirect as dss\n",
    "import matplotlib.pyplot as plt\n",
    "import numpy as np\n",
    "import math\n",
    "import os\n",
    "\n",
    "cmd = dss.utils.run_command"
   ]
  },
  {
   "cell_type": "markdown",
   "metadata": {},
   "source": [
    "## Writing commands\n",
    "We can now use our <font color='orange'> cmd </font> shortcupt to run the same commands we previously learned in the OpenDSS script editor. To <font color='orange'> clear </font> the OpenDSS registers as one should at the beginning of each model, simply type the following command. "
   ]
  },
  {
   "cell_type": "code",
   "execution_count": null,
   "metadata": {},
   "outputs": [],
   "source": [
    "cmd('clear')"
   ]
  },
  {
   "cell_type": "markdown",
   "metadata": {},
   "source": [
    "## Accessing Error Messages\n",
    "Use a <font color='orange'> reply </font> variableas shown below to to access any error messages raised by OpenDSS. <br>\n",
    "<br>\n",
    "Watch what happens below if I try to solve a circuit that is not defined. "
   ]
  },
  {
   "cell_type": "code",
   "execution_count": null,
   "metadata": {},
   "outputs": [],
   "source": [
    "reply1=cmd('clear')\n",
    "print('reply1:',reply1)\n",
    "\n",
    "reply2=cmd('solve')\n",
    "print('reply2:',reply2)"
   ]
  },
  {
   "cell_type": "markdown",
   "metadata": {},
   "source": [
    "## Building a model\n",
    "We can build a load flow model in OpenDSS direct by typing out each line of the code, using <font color='orange'> cmd </font> from above. To save time, I will not write out the full model.<br>\n",
    "<br>\n",
    "Alternatively, we can use the <font color='orange'> redirect </font> command as shown below. This command will redirect the command interpreter to take input directly from a text file. Once it reaches the end of the text file it will return to the original script from which it was called. "
   ]
  },
  {
   "cell_type": "code",
   "execution_count": null,
   "metadata": {},
   "outputs": [],
   "source": [
    "# manually type out each line if we are building a new model\n",
    "reply=cmd('clear')\n",
    "reply1=cmd('set DefaultBaseFrequency=50')\n",
    "reply2=cmd('new circuit.simple_example_snapshot basekv=132 pu=1.0 angle=0 frequency=50 phases=3')\n",
    "#etc....\n",
    "reply3=cmd('solve')\n",
    "print(reply,reply1,reply2, reply3)"
   ]
  },
  {
   "cell_type": "code",
   "execution_count": null,
   "metadata": {},
   "outputs": [],
   "source": [
    "#use redirect command and the directory location of our previously built model.\n",
    "cmd('clear')\n",
    "#redirect dss_file_pathname\n",
    "reply=cmd('redirect '+os.sys.path[0]+'\\\\OpenDSS_model_files\\\\Simple_example_snapshot.dss')\n",
    "print(reply)"
   ]
  },
  {
   "cell_type": "markdown",
   "metadata": {},
   "source": [
    "## Retrieving Results\n",
    "Let's start with some simple numbers from out snapshot analysis. Print out total power, loads, bus voltages, and line loadings and plot our voltage profile.<br>\n",
    "<br>\n",
    "We will use the following modules from OpenDSSDirect to do this:\n",
    "<font color=orange>\n",
    "- dss.Loads\n",
    "- dss.Circuit\n",
    "- dss.Bus\n",
    "- dss.Lines\n",
    "- dss.CktElement \n",
    "</font>"
   ]
  },
  {
   "cell_type": "code",
   "execution_count": null,
   "metadata": {},
   "outputs": [],
   "source": [
    "#using dss.Circuit.TotalPower to get kW and kVArs at the substation \n",
    "print(\"Total power delivered to circuit:\\n\\t\", \n",
    "    dss.Circuit.TotalPower()[0]*-1,'kw',\n",
    "    dss.Circuit.TotalPower()[1]*-1,'kvar')\n",
    "\n",
    "#using the dss.Loads module iterating through the loads in our circuit and printing out the load name, kw, and kVAr for each load. \n",
    "print('\\n'+str(dss.Loads.Count()),\" loads on this feeder:\")\n",
    "dss.Loads.First()\n",
    "while True:\n",
    "    print('\\t Name = {name}, kW = {kW}, kvar = {kvar}'.format(\n",
    "        name=dss.Loads.Name(),kW=dss.Loads.kW(), kvar=dss.Loads.kvar()))\n",
    "    if not dss.Loads.Next() > 0:\n",
    "        break\n",
    "\n",
    "#using dss.Circuit and dss.Bus modules, we can iterate through all the buses in our circuit and print out the name, phase voltages, and distance from the sub. \n",
    "voltage_pu=[]\n",
    "distance=[]\n",
    "print('\\n'+str(dss.Circuit.NumBuses()), \"buses in this feeder:\")\n",
    "for bus in dss.Circuit.AllBusNames():\n",
    "    dss.Circuit.SetActiveBus(bus)\n",
    "    print('\\t Name = {bus_name}, voltage = {voltage}'.format(\n",
    "        bus_name=dss.Bus.Name(), \n",
    "        voltage=[dss.Bus.VMagAngle()[0], dss.Bus.VMagAngle()[2], dss.Bus.VMagAngle()[4]]\n",
    "        ))\n",
    "    distance.append(dss.Bus.Distance())\n",
    "    voltage_pu.append(dss.Bus.PuVoltage()[0])\n",
    "\n",
    "#using dss.Lines to iterate through each line segment and print out the line name, its normamps rating, and the line loading.\n",
    "print('\\n'+str(dss.Lines.Count()), 'lines in this feeder:')\n",
    "dss.Lines.First()\n",
    "while True:\n",
    "    print('\\t Name = {name}, normamps = {normamps}, line loading = {line_loading}'.format(\n",
    "        name=dss.Lines.Name(),\n",
    "        normamps=dss.Lines.NormAmps(), \n",
    "        line_loading=[dss.CktElement.CurrentsMagAng()[0],dss.CktElement.CurrentsMagAng()[2], \n",
    "        dss.CktElement.CurrentsMagAng()[4]]\n",
    "        ))\n",
    "    if not dss.Lines.Next() > 0:\n",
    "        break\n",
    "\n",
    "#plotting our voltage profile\n",
    "fig, ax=plt.subplots()\n",
    "ax.plot(distance,voltage_pu)\n",
    "ax.set_title('Feeder Voltage Profile')\n",
    "ax.set_xlabel('Distance from Substation (km)')\n",
    "ax.set_ylabel('Voltage (pu)')\n",
    "ax.legend();"
   ]
  },
  {
   "cell_type": "markdown",
   "metadata": {},
   "source": [
    "## Timeseries Analysis\n",
    "Let's <font color=orange>redirect</font> to our timeseries model. "
   ]
  },
  {
   "cell_type": "code",
   "execution_count": null,
   "metadata": {},
   "outputs": [],
   "source": [
    "cmd('clear')\n",
    "reply=cmd('redirect '+os.sys.path[0]+'\\\\OpenDSS_model_files\\\\Simple_example_timeseries.dss')\n",
    "print(reply)"
   ]
  },
  {
   "cell_type": "markdown",
   "metadata": {},
   "source": [
    "To perform timeseries analyses we can iterate through each timestep and save metrics at each timestep. Let's plot our loadshape 'daily' and the P and Q at the substation meter. "
   ]
  },
  {
   "cell_type": "code",
   "execution_count": null,
   "metadata": {},
   "outputs": [],
   "source": [
    "#using dss.LoadShape we can get our loadshape multipliers for each timestep. \n",
    "dss.LoadShape.Name('daily')\n",
    "timesteps=range(1,dss.LoadShape.Npts()+1)\n",
    "pmultiplier=dss.LoadShape.PMult()\n",
    "\n",
    "#using dss.Solution, we can solve the model at each timestep and save the values from that solution. Time advances after the dss.Solution.Solve() command. \n",
    "kw=[]\n",
    "kvar=[]\n",
    "dss.Solution.Hour(0)\n",
    "for hour in range(1,dss.LoadShape.Npts()+1):\n",
    "    dss.Solution.Number(1)\n",
    "    dss.Solution.Solve() # time advances here\n",
    "    kw.append(-dss.Circuit.TotalPower()[0])\n",
    "    kvar.append(-dss.Circuit.TotalPower()[1])\n",
    "\n",
    "#plotting our loadshape\n",
    "fig, ax=plt.subplots(layout='constrained')\n",
    "ax.plot(timesteps,pmultiplier, label=dss.LoadShape.Name())\n",
    "ax.set_title('Loadshape')\n",
    "ax.set_xlabel('timesteps (hr)')\n",
    "ax.set_ylabel('PMultiplier')\n",
    "ax.legend();\n",
    "\n",
    "#plotting P and Q at the substation meter. \n",
    "fig1, ax1=plt.subplots(layout='constrained')\n",
    "ax1.plot(timesteps,kw, label='P (kW)')\n",
    "ax1.plot(timesteps,kvar, label='Q (kvar)')\n",
    "ax1.set_title('Substation Powers')\n",
    "ax1.set_xlabel('timesteps (hr)')\n",
    "ax1.legend();"
   ]
  },
  {
   "cell_type": "markdown",
   "metadata": {},
   "source": [
    "## Timeseries Voltage Analysis\n",
    "It can be helpful to see the range of voltages at each bus over the timeframe being modeled. Let's plot a box and whisker plot to visualize this. <br>\n",
    "<br>\n",
    "Notice that the the source bus voltage does not change much at all, as we made it very stiff."
   ]
  },
  {
   "cell_type": "code",
   "execution_count": null,
   "metadata": {},
   "outputs": [],
   "source": [
    "#iterate through the busses in our model, and then iterate through\n",
    "#each timestep for each bus, saving the per unit voltages in a dictionary\n",
    "voltage_ts={}\n",
    "for bus in dss.Circuit.AllBusNames():\n",
    "    dss.Circuit.SetActiveBus(bus)\n",
    "    voltage_ts[bus]=[]\n",
    "    dss.Solution.Hour(0)\n",
    "    for hour in range(1,dss.LoadShape.Npts()+1):\n",
    "        dss.Solution.Number(1)\n",
    "        dss.Solution.Solve()\n",
    "        voltage_ts[bus].append(dss.Bus.PuVoltage()[0])\n",
    "\n",
    "#plot the box and whisker plot of bus voltages\n",
    "fig1,ax1=plt.subplots()\n",
    "ax1.set_title('PU Voltage Ranges for Each Bus')\n",
    "ax1.boxplot([v for v in voltage_ts.values()], labels= voltage_ts.keys(), whis=[0,100]);"
   ]
  },
  {
   "cell_type": "markdown",
   "metadata": {},
   "source": [
    "## Timeseries Loading Analysis\n",
    "Likewise, it may be useful to the max load of each conductor over our time series as a percent of their normal ampacity rating. Then let's print out all of the linesegments that are overloaded in this scenario. <br>\n",
    "<br>\n",
    "NOTE: One can uncomment the first two lines below to add another large load to busC and overload the circuit on purpose. "
   ]
  },
  {
   "cell_type": "code",
   "execution_count": null,
   "metadata": {},
   "outputs": [],
   "source": [
    "# reply=cmd('new load.primary_load2 bus1=C phases=3 kv=33 kw=5400 kvar=2615 model=1 daily=daily status=variable') #6000kVA at pf=0.90\n",
    "# print('reply:', reply)\n",
    "\n",
    "#iterate through each line segment, and solve for each timestep saving the currents and the normamps. \n",
    "print('Timeseries Line Loadings:')\n",
    "dss.Lines.First()\n",
    "overloads=[]\n",
    "while True:\n",
    "    maxload=False\n",
    "    normamps=dss.Lines.NormAmps()\n",
    "    dss.Solution.Hour(0)\n",
    "    for hour in range(1,dss.LoadShape.Npts()+1):\n",
    "        dss.Solution.Number(1)\n",
    "        dss.Solution.Solve()\n",
    "        timestep_load=max(dss.CktElement.CurrentsMagAng()[0],\n",
    "        dss.CktElement.CurrentsMagAng()[2], dss.CktElement.CurrentsMagAng()[4]\n",
    "        )\n",
    "        if not maxload:\n",
    "            maxload=timestep_load\n",
    "        elif timestep_load>maxload:\n",
    "            maxload=timestep_load\n",
    "\n",
    "    #save any overloaded line segments\n",
    "    if maxload>normamps:\n",
    "        overloads.append(dss.Lines.Name())\n",
    "    \n",
    "    #for each line segment, print our the name, max line loading across all timesteps, and the percentage of the normamps rating. \n",
    "    print('Name = {name},\\t Max line loading = {max_amps} A, \\t Max line loading percent = {maxload_pct} %'.format(\n",
    "        name=dss.Lines.Name(),max_amps=maxload, maxload_pct=100*maxload/normamps\n",
    "        ))\n",
    "    if not dss.Lines.Next() > 0:\n",
    "        break\n",
    "\n",
    "#print out any line overloads\n",
    "print('\\nOverloaded line segments:')\n",
    "for line in overloads:\n",
    "    print(line)"
   ]
  },
  {
   "cell_type": "markdown",
   "metadata": {},
   "source": [
    "We just changed our active circuit by adding a new load! Even by commenting out that line in our code, the new load will still be in our OpenDSS model.<br>\n",
    "<br>\n",
    "Let's just clear the changes we made previously, with our additional load so we can continue analyzing our original model. Just use the <font color=orange> clear</font> command and <font color=orange>redirect</font> to reload the original model."
   ]
  },
  {
   "cell_type": "code",
   "execution_count": null,
   "metadata": {},
   "outputs": [],
   "source": [
    "cmd('clear')\n",
    "reply=cmd('redirect '+os.sys.path[0]+'\\\\OpenDSS_model_files\\\\Simple_example_timeseries.dss')\n",
    "print(reply)"
   ]
  },
  {
   "cell_type": "markdown",
   "metadata": {},
   "source": [
    "## Timeseries Loss Assessment\n",
    "One can also look at the losses over each timestep in our simulation. This can be useful if we want to monetize our loss metrics and visualize lost revenue. The plots below show losses at each timestep, cumulative losses over our simulation timeframe, and cumulative lost revenue over the simulation timeframe. \n",
    "<br>\n",
    "<br>\n",
    "Let's use ₹8/kWh."
   ]
  },
  {
   "cell_type": "code",
   "execution_count": null,
   "metadata": {},
   "outputs": [],
   "source": [
    "active_losses=[]\n",
    "reactive_losses=[]\n",
    "energy_consumption=[]\n",
    "\n",
    "#iterate through each timestep and save the active and reactive losses as well \n",
    "#as the energy consumption for that timestep. \n",
    "timesteps=range(1,dss.LoadShape.Npts()+1)\n",
    "dss.Solution.Hour(0)\n",
    "for hour in range(1,dss.LoadShape.Npts()+1):\n",
    "    dss.Solution.Number(1)\n",
    "    dss.Solution.Solve()\n",
    "    active_losses.append(dss.Circuit.Losses()[0]/1000)\n",
    "    reactive_losses.append(dss.Circuit.Losses()[1]/1000)\n",
    "    energy_consumption.append(-dss.Circuit.TotalPower()[0])\n",
    "\n",
    "\n",
    "#calculate cumulative losses\n",
    "cumulative_active_losses=np.cumsum(np.asarray(active_losses))\n",
    "cumulative_reactive_losses=np.cumsum(np.asarray(reactive_losses))\n",
    "cumulative_energy_consumption=np.cumsum(np.asarray(energy_consumption))\n",
    "\n",
    "#assign a price per kwh and calculate lost revenue and total revenue\n",
    "price_kwh=8 #rupees\n",
    "lost_revenue=np.asarray(active_losses)*price_kwh\n",
    "cumulative_lost_revenue=np.cumsum(lost_revenue)\n",
    "total_revenue=cumulative_energy_consumption[-1]*price_kwh\n",
    "\n",
    "#plot losses for each timestep\n",
    "fig,ax=plt.subplots()\n",
    "ax.set_title('System Losses per Timestep')\n",
    "ax.plot(timesteps, active_losses, label='Total Active Losses (kWh)')\n",
    "ax.plot(timesteps, reactive_losses, label='Total Reactive Losses (kvarh)');\n",
    "ax.set_xlabel('timesteps (hr)')\n",
    "ax.legend();\n",
    "\n",
    "#plot cumulative losses at each timestep\n",
    "fig1,ax1=plt.subplots()\n",
    "ax1.plot(timesteps, cumulative_active_losses, label='Cumulative Active Losses (kWh)')\n",
    "ax1.plot(timesteps, cumulative_reactive_losses, label='Cumulative Reactive Losses (kvarh)')\n",
    "ax1.set_title('Cumulative System Losses')\n",
    "ax1.set_xlabel('timesteps (hr)')\n",
    "ax1.legend();\n",
    "\n",
    "#plot Cumulative lost revenue\n",
    "fig2,ax2=plt.subplots()\n",
    "ax2.plot(timesteps, lost_revenue, label='Lost revenue per timestep (₹)')\n",
    "ax2.plot(timesteps, cumulative_lost_revenue, label='Cumulative lost revenue (₹)')\n",
    "ax2.set_title('Lost Revenue (assuming ₹{price}/kwh)'.format(price=price_kwh))\n",
    "ax2.set_xlabel('timesteps (hr)')\n",
    "ax2.legend();"
   ]
  },
  {
   "cell_type": "markdown",
   "metadata": {},
   "source": [
    "We can also print the total lost revenue as a percent of total revenue."
   ]
  },
  {
   "cell_type": "code",
   "execution_count": null,
   "metadata": {},
   "outputs": [],
   "source": [
    "lost_rev_pct=round(cumulative_lost_revenue[-1]/total_revenue,3)\n",
    "print('Lost revenue = '+str(round(lost_rev_pct*100,3))+\"% of total revenue\")"
   ]
  },
  {
   "cell_type": "markdown",
   "metadata": {},
   "source": [
    "## Distributed Generation\n",
    "Let us now add our solar system as shown in the oneline from yesterday's tutorial. This can be done with the commands below.<br>\n",
    "<br>\n",
    "NOTE: We are using a different loadshape that mimics irradiance data for our solar system! Let's print out the solar curve to compare to our load shape. <br>\n",
    "<br>\n",
    "<br>\n",
    "<img src=\"images\\Oneline.jpg\" width=700>"
   ]
  },
  {
   "cell_type": "code",
   "execution_count": null,
   "metadata": {},
   "outputs": [],
   "source": [
    "#add a new loadshape called solar_daily\n",
    "reply1=cmd('new loadshape.solar_daily npts=24 interval=1.0 csvfile='+os.sys.path[0]+'\\\\OpenDSS_model_files\\\\solar_daily.txt')\n",
    "\n",
    "#add new pvsystem with a nameplate and pmpp of 3 MVA at unity PF\n",
    "reply2=cmd('new pvsystem.pv1 bus1=C phases=3 kv=33 kva=3000 irradiance=0.98 pmpp=3000 kvar=0 %cutin=0.05 %cutout=0.05 daily=solar_daily')\n",
    "print(reply1, reply2)\n",
    "#kva=kva rating of inverter\n",
    "#irradiance=present irradiance values in kW/sq-m. Peak value for time period\n",
    "#pmpp=rated max power for 1.0kW/sq-m\n",
    "#%cutin=% of kVA rating. Power from array must be greater than this for the inverter to turn on\n",
    "#%cutout= inverter turns off when power drops below this. \n",
    "#daily=daily loadshape for PV generation\n",
    "\n",
    "#print our loadshape and pv curve\n",
    "dss.LoadShape.Name('daily')\n",
    "timesteps=range(1,dss.LoadShape.Npts()+1)\n",
    "pmultiplier=dss.LoadShape.PMult()\n",
    "dss.LoadShape.Name('solar_daily')\n",
    "pvmultiplier=dss.LoadShape.PMult()\n",
    "\n",
    "fig, ax=plt.subplots(layout='constrained')\n",
    "ax.plot(timesteps,pmultiplier, label='daily')\n",
    "ax.plot(timesteps,pvmultiplier, label='solar daily' )\n",
    "ax.set_title('Loadshape and Solar Curve')\n",
    "ax.set_xlabel('timesteps (hr)')\n",
    "ax.set_ylabel('PMultiplier')\n",
    "ax.legend();"
   ]
  },
  {
   "cell_type": "markdown",
   "metadata": {},
   "source": [
    "## PV Voltage Analysis\n",
    "Let's look at how our solar system affects the feeder's voltage profile. "
   ]
  },
  {
   "cell_type": "code",
   "execution_count": null,
   "metadata": {},
   "outputs": [],
   "source": [
    "#iterate through each bus of collecting the per unit voltage for the last timestep of our model. \n",
    "voltage_pu_solar=[]\n",
    "for bus in dss.Circuit.AllBusNames():\n",
    "    dss.Circuit.SetActiveBus(bus)\n",
    "    voltage_pu_solar.append(dss.Bus.PuVoltage()[0])\n",
    "\n",
    "#plot voltage over distance\n",
    "fig, ax=plt.subplots(layout='constrained')\n",
    "ax.plot(distance,voltage_pu, label='Without PV')\n",
    "ax.plot(distance, voltage_pu_solar, label='With PV')\n",
    "ax.set_title('Voltage Profile')\n",
    "ax.set_xlabel('Distance from Substation (km)')\n",
    "ax.set_ylabel('Voltage (pu)')\n",
    "ax.legend();"
   ]
  },
  {
   "cell_type": "markdown",
   "metadata": {},
   "source": [
    "## PV Load Analysis\n",
    "Let's see how our PV affects feeder loading. Let's plot out both of our loadshapes and then the feeder-level P and Q with and without solar. "
   ]
  },
  {
   "cell_type": "code",
   "execution_count": null,
   "metadata": {},
   "outputs": [],
   "source": [
    "#iterate through each timestep, recording P and Q at the substation meter with solar. \n",
    "kw_solar=[]\n",
    "kvar_solar=[]\n",
    "dss.Solution.Hour(0)\n",
    "for hour in range(1,dss.LoadShape.Npts()+1):\n",
    "    dss.Solution.Number(1)\n",
    "    dss.Solution.Solve() # the advancing happens here\n",
    "    kw_solar.append(-dss.Circuit.TotalPower()[0])\n",
    "    kvar_solar.append(-dss.Circuit.TotalPower()[1])\n",
    "\n",
    "#plot P and Q with and without solar. \n",
    "fig, ax=plt.subplots(layout='constrained')\n",
    "ax.plot(timesteps,kw, label='P no PV (kW)')\n",
    "ax.plot(timesteps,kw_solar, label='P PV (kW)')\n",
    "ax.plot(timesteps,kvar, label='Q no PV(kvar)')\n",
    "ax.plot(timesteps,kvar_solar, label='Q PV(kvar)')\n",
    "ax.set_title('Substation Powers')\n",
    "ax.set_xlabel('timesteps (hr)')\n",
    "ax.legend();"
   ]
  },
  {
   "cell_type": "markdown",
   "metadata": {},
   "source": [
    "## PV Bus Voltage Analysis\n",
    "Let's visualize the range of voltages seen at each bus with and without PV."
   ]
  },
  {
   "cell_type": "code",
   "execution_count": null,
   "metadata": {},
   "outputs": [],
   "source": [
    "#iterate through the busses in our model, and then iterate through each timestep for each bus, saving the per unit voltages in a dictionary\n",
    "voltage_ts_solar={}\n",
    "for bus in dss.Circuit.AllBusNames():\n",
    "    dss.Circuit.SetActiveBus(bus)\n",
    "    voltage_ts_solar[bus]=[]\n",
    "    dss.Solution.Hour(0)\n",
    "    for hour in range(1,dss.LoadShape.Npts()+1):\n",
    "        dss.Solution.Number(1)\n",
    "        dss.Solution.Solve()\n",
    "        voltage_ts_solar[bus].append(dss.Bus.PuVoltage()[0])\n",
    "\n",
    "#plot voltage ranges for each bus with and without solar\n",
    "combined_voltage_ts={}\n",
    "for index, (key,value) in enumerate(voltage_ts.items()):\n",
    "    combined_voltage_ts[key]=value\n",
    "    combined_voltage_ts[str(key)+'+PV']=voltage_ts_solar[key]\n",
    "\n",
    "fig1,ax1=plt.subplots()\n",
    "ax1.set_title('PU Voltage Ranges for Each Bus')\n",
    "ax1.boxplot([v for v in combined_voltage_ts.values()], labels= combined_voltage_ts.keys(), whis=[0,100]);"
   ]
  },
  {
   "cell_type": "markdown",
   "metadata": {},
   "source": [
    "## PV Loss Assessment\n",
    "How does PV affect system losses and revenue?"
   ]
  },
  {
   "cell_type": "code",
   "execution_count": null,
   "metadata": {},
   "outputs": [],
   "source": [
    "import numpy as np\n",
    "\n",
    "active_losses_solar=[]\n",
    "reactive_losses_solar=[]\n",
    "energy_consumption_solar=[]\n",
    "dss.Solution.Hour(0)\n",
    "for hour in range(1,dss.LoadShape.Npts()+1):\n",
    "    dss.Solution.Number(1)\n",
    "    dss.Solution.Solve()\n",
    "    active_losses_solar.append(dss.Circuit.Losses()[0]/1000)\n",
    "    reactive_losses_solar.append(dss.Circuit.Losses()[1]/1000)\n",
    "    energy_consumption_solar.append(-dss.Circuit.TotalPower()[0])\n",
    "\n",
    "cumulative_active_losses_solar=np.cumsum(np.asarray(active_losses_solar))\n",
    "cumulative_reactive_losses_solar=np.cumsum(np.asarray(reactive_losses_solar))\n",
    "cumulative_energy_consumption_solar=np.cumsum(np.asarray(energy_consumption_solar))\n",
    "\n",
    "price_kwh=8 #ruppees\n",
    "lost_revenue_solar=np.asarray(active_losses_solar)*price_kwh\n",
    "cumulative_lost_revenue_solar=np.cumsum(lost_revenue_solar)\n",
    "total_revenue_solar=cumulative_energy_consumption_solar[-1]*price_kwh\n",
    "\n",
    "fig,ax=plt.subplots()\n",
    "ax.plot(timesteps, active_losses, label='Total Active Losses (kWh)')\n",
    "ax.plot(timesteps, reactive_losses, label='Total Reactive Losses (kvarh)');\n",
    "ax.plot(timesteps, active_losses_solar, label='Total Active Losses + PV (kWh)')\n",
    "ax.plot(timesteps, reactive_losses_solar, label='Total Reactive Losses + PV (kvarh)');\n",
    "ax.set_xlabel('timesteps (hr)')\n",
    "ax.set_title('System Losses per Timestep')\n",
    "ax.legend();\n",
    "\n",
    "fig1,ax1=plt.subplots()\n",
    "ax1.plot(timesteps, cumulative_active_losses, label='Cumulative Active Losses (kWh)')\n",
    "ax1.plot(timesteps, cumulative_reactive_losses, label='Cumulative Reactive Losses (kvarh)')\n",
    "ax1.plot(timesteps, cumulative_active_losses_solar, label='Cumulative Active Losses + PV (kWh)')\n",
    "ax1.plot(timesteps, cumulative_reactive_losses_solar, label='Cumulative Reactive Losses + PV (kvarh)')\n",
    "ax1.set_xlabel('timesteps (hr)')\n",
    "ax1.set_title('Cumulative System Losses')\n",
    "ax1.legend();\n",
    "\n",
    "fig2,ax2=plt.subplots()\n",
    "ax2.plot(timesteps, cumulative_lost_revenue, label='Cumulative lost revenue (₹)')\n",
    "ax2.plot(timesteps, cumulative_lost_revenue_solar, label='Cumulative lost revenue + PV (₹)')\n",
    "ax2.set_title('Cumulative Lost Revenue (assuming ₹{price}/kwh)'.format(price=price_kwh))\n",
    "ax2.set_xlabel('timesteps (hr)')\n",
    "ax2.legend();"
   ]
  },
  {
   "cell_type": "markdown",
   "metadata": {},
   "source": [
    "## Simple Hosting Capacity Study\n",
    "A solar developer wants to know how much hosting capacity the feeder has, specifically on BusC where they have purchased land to build a solar farm. <br>\n",
    "<br>\n",
    "To answer this question, we can incrementally increase our pv system interconnecting to busC and check for violations at each step. \n",
    "In this very simple analysis we will check for three types of violations:<br>\n",
    "- Overvoltage \n",
    "- Conductor overload\n",
    "- Reverse powerflow at the substation (kw) <br>\n",
    "\n",
    "\n",
    "We will print out the first violation that occurs and at what pv size upgrades would be necessary. <br>\n",
    "<br>We can comment out certain checks below if we don't want to evaluate by that criteria. "
   ]
  },
  {
   "cell_type": "code",
   "execution_count": null,
   "metadata": {},
   "outputs": [],
   "source": [
    "#set out overvoltage threshold, PV system step size and PF\n",
    "ov_threshold=1.05\n",
    "dg_kw_increment=100\n",
    "pv_pf=-0.98\n",
    "\n",
    "#initialize our dg set point at 0 kW and set all of our checks to false. \n",
    "dg_kw_set=0 #kw\n",
    "voltage_violation=False\n",
    "line_overload=False\n",
    "reverse_power_flow=False\n",
    "\n",
    "#create empty lists for our key metrics. \n",
    "time_step_max_bus_voltages=[]\n",
    "time_step_max_line_loadings=[]\n",
    "time_step_substation_kw=[]\n",
    "time_step_substation_kvar=[]\n",
    "dg_increments=[]\n",
    "\n",
    "#using a while loop, we will keep increasing the pv system size until one of the three criteria is met (overvoltage, line overload, or reverse power flow)\n",
    "while not voltage_violation and not line_overload and not reverse_power_flow:\n",
    "    #clear the register, redirect to our timeseries model, and add a pv system and loadshape of the current step's size.\n",
    "    cmd('clear')\n",
    "    cmd('redirect '+os.sys.path[0]+'\\\\OpenDSS_model_files\\\\Simple_example_timeseries.dss')\n",
    "    cmd('new loadshape.solar_daily npts=24 interval=1.0 csvfile='+os.sys.path[0]+'\\\\OpenDSS_model_files\\\\solar_daily.txt')\n",
    "    cmd('new pvsystem.pv1 bus1=c phases=3 kv=33 kva={kva} irradiance=0.98 pmpp={pmpp} %cutin=0.05 %cutout=0.05 daily=solar_daily pf={pf}'.format(kva=dg_kw_set, pmpp=dg_kw_set,pf=pv_pf))\n",
    "\n",
    "    max_bus_voltage=False\n",
    "    maxload_pct=False\n",
    "    min_kw=False\n",
    "    min_kvar=False\n",
    "\n",
    "    #iterate through timestep\n",
    "    dss.Solution.Hour(0)\n",
    "    for hour in range(1,dss.LoadShape.Npts()+1):\n",
    "        dss.Solution.Number(1)\n",
    "        dss.Solution.Solve()\n",
    "\n",
    "        #find max bus voltage for current timestep\n",
    "        for bus in dss.Circuit.AllBusNames():\n",
    "            dss.Circuit.SetActiveBus(bus)\n",
    "            bus_voltage=dss.Bus.PuVoltage()[0]\n",
    "            if not max_bus_voltage:\n",
    "                max_bus_voltage=bus_voltage\n",
    "                max_voltage_bus_name=bus\n",
    "            elif bus_voltage>max_bus_voltage:\n",
    "                max_bus_voltage=bus_voltage\n",
    "                max_voltage_bus_name=bus\n",
    "        \n",
    "        #find max line loadings for current timestep\n",
    "        dss.Lines.First()\n",
    "        while True:\n",
    "            line_load_pct=max(dss.CktElement.CurrentsMagAng()[0],dss.CktElement.CurrentsMagAng()[2], dss.CktElement.CurrentsMagAng()[4])/dss.Lines.NormAmps()\n",
    "            if not maxload_pct:\n",
    "                maxload_pct=line_load_pct/dss.Lines.NormAmps()\n",
    "                maxload_line=dss.Lines.Name()\n",
    "            elif line_load_pct>maxload_pct:\n",
    "                maxload_pct=line_load_pct\n",
    "                maxload_line=dss.Lines.Name()\n",
    "            if not dss.Lines.Next() > 0:\n",
    "                break\n",
    "\n",
    "        #find total power flow at substion\n",
    "        time_step_kw=-dss.Circuit.TotalPower()[0]\n",
    "        time_step_kvar=-dss.Circuit.TotalPower()[1]\n",
    "        if not min_kw:\n",
    "            min_kw=time_step_kw\n",
    "        elif time_step_kw<min_kw:\n",
    "            min_kw=time_step_kw\n",
    "        if not min_kvar:\n",
    "            min_kvar=time_step_kvar\n",
    "        elif time_step_kvar<min_kvar:\n",
    "            min_kvar=time_step_kvar\n",
    "\n",
    "    #add current iteration metrics to plotting data\n",
    "    time_step_max_bus_voltages.append(max_bus_voltage)\n",
    "    time_step_max_line_loadings.append(maxload_pct)\n",
    "    time_step_substation_kw.append(min_kw)\n",
    "    time_step_substation_kvar.append(min_kvar)\n",
    "    dg_increments.append(dg_kw_set)\n",
    "\n",
    "    # Run checks for current circuit. COMMENT OUT TWO OF THESE CHECKS TO ONLY RUN ONE\n",
    "    # 1. Check for line overloads\n",
    "    if maxload_pct>1:\n",
    "        print('DG size = {dg}: \\t Line overload at line section {name}, {loading}% normamps'.format(dg=dg_kw_set, name=maxload_line, loading=maxload_pct*100))\n",
    "        line_overload=True\n",
    "        fig,ax=plt.subplots()\n",
    "        ax.plot(dg_increments, time_step_max_line_loadings, label='Max Line Loadings (percent of conductor ampacity)')\n",
    "        ax.set_xlabel('PV system size at bus C (kW)')\n",
    "        ax.legend();\n",
    "\n",
    "    # 2. Check for overvoltages\n",
    "    if max_bus_voltage>ov_threshold:\n",
    "        print('DG size = {dg}: \\t Voltage violation at bus {name}, {bus_voltage} pu'.format(dg=dg_kw_set, name=max_voltage_bus_name, bus_voltage=max_bus_voltage))\n",
    "        voltage_violation=True\n",
    "        fig,ax=plt.subplots()\n",
    "        ax.plot(dg_increments, time_step_max_bus_voltages, label='Max bus voltage (pu)')\n",
    "        ax.set_xlabel('PV system size at bus C (kW)')\n",
    "        ax.legend();\n",
    "\n",
    "    # # 3. Check for reverse power flow at the substation\n",
    "    if min_kvar < 0 or min_kw < 0:\n",
    "        print('DG size = {dg}: \\t Reverse power flow at the subsation, {kw} kw, {kvar} kvar'.format(dg=dg_kw_set, kw=min_kw, kvar=min_kvar))\n",
    "        reverse_power_flow=True\n",
    "        fig,ax=plt.subplots()\n",
    "        ax.plot(dg_increments, time_step_substation_kw, label='Substation min kW')\n",
    "        ax.set_xlabel('PV system size at bus C (kW)')\n",
    "        ax.legend();\n",
    "\n",
    "    #increase solar system size by specified increment if no checks were failed\n",
    "    dg_kw_set+=dg_kw_increment"
   ]
  }
 ],
 "metadata": {
  "kernelspec": {
   "display_name": "Python 3 (ipykernel)",
   "language": "python",
   "name": "python3"
  },
  "language_info": {
   "codemirror_mode": {
    "name": "ipython",
    "version": 3
   },
   "file_extension": ".py",
   "mimetype": "text/x-python",
   "name": "python",
   "nbconvert_exporter": "python",
   "pygments_lexer": "ipython3",
   "version": "3.10.6"
  },
  "vscode": {
   "interpreter": {
    "hash": "a6bc8c191ff8db68a82da6f7cbb03b6f48954f0f422a903c47f1e55ce3ee47bf"
   }
  }
 },
 "nbformat": 4,
 "nbformat_minor": 2
}
